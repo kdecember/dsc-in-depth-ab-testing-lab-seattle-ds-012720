{
 "cells": [
  {
   "cell_type": "markdown",
   "metadata": {},
   "source": [
    "# In Depth A/B Testing - Lab\n",
    "\n",
    "## Introduction\n",
    "\n",
    "In this lab, you'll explore a survey from Kaggle regarding budding data scientists. With this, you'll form some initial hypotheses, and test them using the tools you've acquired to date. \n",
    "\n",
    "## Objectives\n",
    "\n",
    "You will be able to:\n",
    "* Conduct t-tests and an ANOVA on a real-world dataset and interpret the results"
   ]
  },
  {
   "cell_type": "markdown",
   "metadata": {},
   "source": [
    "## Load the Dataset and Perform a Brief Exploration\n",
    "\n",
    "The data is stored in a file called **multipleChoiceResponses_cleaned.csv**. Feel free to check out the original dataset referenced at the bottom of this lab, although this cleaned version will undoubtedly be easier to work with. Additionally, meta-data regarding the questions is stored in a file name **schema.csv**. Load in the data itself as a Pandas DataFrame, and take a moment to briefly get acquainted with it.\n",
    "\n",
    "> Note: If you can't get the file to load properly, try changing the encoding format as in `encoding='latin1'`"
   ]
  },
  {
   "cell_type": "code",
   "execution_count": 1,
   "metadata": {},
   "outputs": [],
   "source": [
    "import numpy as np \n",
    "import pandas as pd\n",
    "import matplotlib.pyplot as plt\n",
    "import scipy.stats as stats\n",
    "from statsmodels.stats.power import TTestIndPower\n",
    "import seaborn as sns\n",
    "import warnings\n",
    "import flatiron_stats as fts\n",
    "import statsmodels.api as sm\n",
    "from statsmodels.formula.api import ols\n",
    "\n",
    "%matplotlib inline"
   ]
  },
  {
   "cell_type": "code",
   "execution_count": 3,
   "metadata": {},
   "outputs": [],
   "source": [
    "schema = pd.read_csv('schema.csv', encoding='latin1')\n",
    "df = pd.read_csv('multipleChoiceResponses_cleaned.csv', encoding='latin1')"
   ]
  },
  {
   "cell_type": "code",
   "execution_count": 17,
   "metadata": {},
   "outputs": [
    {
     "data": {
      "text/plain": [
       "array([\"Bachelor's degree\", \"Master's degree\", 'Doctoral degree', nan,\n",
       "       \"Some college/university study without earning a bachelor's degree\",\n",
       "       'I did not complete any formal education past high school',\n",
       "       'Professional degree', 'I prefer not to answer'], dtype=object)"
      ]
     },
     "execution_count": 17,
     "metadata": {},
     "output_type": "execute_result"
    }
   ],
   "source": [
    "df['FormalEducation'].unique()"
   ]
  },
  {
   "cell_type": "markdown",
   "metadata": {},
   "source": [
    "## Wages and Education\n",
    "\n",
    "You've been asked to determine whether education is impactful to salary. Develop a hypothesis test to compare the salaries of those with Master's degrees to those with Bachelor's degrees. Are the two statistically different according to your results?\n",
    "\n",
    "> Note: The relevant features are stored in the 'FormalEducation' and 'AdjustedCompensation' features.\n",
    "\n",
    "You may import the functions stored in the `flatiron_stats.py` file to help perform your hypothesis tests. It contains the stats functions that you previously coded: `welch_t(a,b)`, `welch_df(a, b)`, and `p_value(a, b, two_sided=False)`. \n",
    "\n",
    "Note that `scipy.stats.ttest_ind(a, b, equal_var=False)` performs a two-sided Welch's t-test and that p-values derived from two-sided tests are two times the p-values derived from one-sided tests. See the [documentation](https://docs.scipy.org/doc/scipy/reference/generated/scipy.stats.ttest_ind.html) for more information.    "
   ]
  },
  {
   "cell_type": "code",
   "execution_count": 4,
   "metadata": {},
   "outputs": [],
   "source": [
    "#dataframes based on education\n",
    "df_bachelor = df[df['FormalEducation'] == \"Bachelor's degree\"]\n",
    "df_master = df[df['FormalEducation'] == \"Master's degree\"]\n",
    "df_doctor = df[df['FormalEducation'] == \"Doctoral degree\"]\n",
    "\n",
    "#dropping NaN values in compensation column\n",
    "df_bachelor = df_bachelor.dropna(subset=['AdjustedCompensation'])\n",
    "df_master = df_master.dropna(subset=['AdjustedCompensation'])\n",
    "df_doctor = df_doctor.dropna(subset=['AdjustedCompensation'])\n",
    "\n",
    "#filter out excessively high values (north of 1 million) and low values (below federal minimum wage)\n",
    "df_bachelor = df_bachelor[(df_bachelor['AdjustedCompensation'] <= 999999) & (df_bachelor['AdjustedCompensation'] > 0)] \n",
    "df_master = df_master[(df_master['AdjustedCompensation'] <= 999999) & (df_master['AdjustedCompensation'] > 0)] \n",
    "df_doctor = df_doctor[(df_doctor['AdjustedCompensation'] <= 999999) & (df_doctor['AdjustedCompensation'] > 0)] "
   ]
  },
  {
   "cell_type": "code",
   "execution_count": 165,
   "metadata": {},
   "outputs": [],
   "source": [
    "#performing statistical analysis\n",
    "t = fts.welch_t(df_bachelor['AdjustedCompensation'], df_master['AdjustedCompensation'])\n",
    "ddof = fts.welch_df(df_bachelor['AdjustedCompensation'], df_master['AdjustedCompensation'])\n",
    "p_val = fts.p_value_welch_ttest(df_bachelor['AdjustedCompensation'], df_master['AdjustedCompensation'], two_sided=True)\n",
    "\n",
    "t2 = stats.ttest_ind(df_bachelor['AdjustedCompensation'], df_master['AdjustedCompensation'], equal_var=False, nan_policy = 'omit')"
   ]
  },
  {
   "cell_type": "code",
   "execution_count": 173,
   "metadata": {},
   "outputs": [
    {
     "name": "stdout",
     "output_type": "stream",
     "text": [
      "the p_value when comparing adjusted compensation between master and bachelor degrees is 1.5863235467428183e-06, therefore we reject the null\n"
     ]
    }
   ],
   "source": [
    "print(f'''the p_value when comparing adjusted compensation between master and bachelor degrees is {p_val}, therefore we reject the null\n",
    "        \n",
    "            ''')"
   ]
  },
  {
   "cell_type": "markdown",
   "metadata": {},
   "source": [
    "## Wages and Education II\n",
    "\n",
    "Now perform a similar statistical test comparing the AdjustedCompensation of those with Bachelor's degrees and those with Doctorates. If you haven't already, be sure to explore the distribution of the AdjustedCompensation feature for any anomalies. "
   ]
  },
  {
   "cell_type": "code",
   "execution_count": 184,
   "metadata": {},
   "outputs": [
    {
     "name": "stdout",
     "output_type": "stream",
     "text": [
      "Ttest_indResult(statistic=11.76723361673775, pvalue=6.441928921153893e-31)\n",
      "\n",
      "we discovered several anomolies in the data when viewing the histogram, so we went back and limited our data\n",
      "            to adjusted incomes under 1 million dollars, and above 0 dollars, we considered limiting it based on\n",
      "            US Federal Minimum wage, but then we realized this is an international sample, and that metric is irrelevant \n",
      "            in many places in the world\n",
      "       \n",
      "after polishing the data to be more realistic, we found a p-value 6.4e-31 and therefore rejected the null hypothesis]\n",
      "        \n",
      "        \n"
     ]
    },
    {
     "data": {
      "image/png": "[encoded data removed]",
      "text/plain": [
       "<Figure size 432x288 with 1 Axes>"
      ]
     },
     "metadata": {
      "needs_background": "light"
     },
     "output_type": "display_data"
    }
   ],
   "source": [
    "#Your code here\n",
    "t2 = stats.ttest_ind(df_doctor['AdjustedCompensation'], df_bachelor['AdjustedCompensation'], equal_var=False, nan_policy = 'omit')\n",
    "p_val2 = fts.p_value_welch_ttest(df_bachelor['AdjustedCompensation'], df_doctor['AdjustedCompensation'], two_sided=True)\n",
    "\n",
    "print (t2)\n",
    "print('')\n",
    "plt.hist(df_bachelor['AdjustedCompensation'], range=[0, 250000], bins=50)\n",
    "\n",
    "print (f'''we discovered several anomolies in the data when viewing the histogram, so we went back and limited our data\n",
    "            to adjusted incomes under 1 million dollars, and above 0 dollars, we considered limiting it based on\n",
    "            US Federal Minimum wage, but then we realized this is an international sample, and that metric is irrelevant \n",
    "            in many places in the world\n",
    "       ''')\n",
    "\n",
    "print(f\"\"\"after polishing the data to be more realistic, we found a p-value 6.4e-31 and therefore rejected the null hypothesis]\n",
    "        \n",
    "        \"\"\")"
   ]
  },
  {
   "cell_type": "markdown",
   "metadata": {},
   "source": [
    "## Wages and Education III\n",
    "\n",
    "Remember the multiple comparisons problem; rather than continuing on like this, perform an ANOVA test between the various 'FormalEducation' categories and their relation to 'AdjustedCompensation'."
   ]
  },
  {
   "cell_type": "code",
   "execution_count": 192,
   "metadata": {},
   "outputs": [
    {
     "name": "stdout",
     "output_type": "stream",
     "text": [
      "                             sum_sq      df          F        PR(>F)\n",
      "df['FormalEducation']  5.548565e+11     6.0  26.127919  1.082559e-30\n",
      "Residual               1.515907e+13  4283.0        NaN           NaN\n",
      "\n",
      "we found that the PR(>F) value was 1.08e-30 and therefore we reject the null that education does not affect salary\n"
     ]
    }
   ],
   "source": [
    "df = df[(df['AdjustedCompensation'] <= 999999) & (df['AdjustedCompensation'] > 0)]\n",
    "\n",
    "formula = \"df['AdjustedCompensation'] ~ df['FormalEducation']\"\n",
    "lm = ols(formula, df).fit()\n",
    "table = sm.stats.anova_lm(lm, typ=2)\n",
    "print(table)\n",
    "print('')\n",
    "print('we found that the PR(>F) value was 1.08e-30 and therefore we reject the null that education does not affect salary')"
   ]
  },
  {
   "cell_type": "markdown",
   "metadata": {},
   "source": [
    "## Additional Resources\n",
    "\n",
    "Here's the original source where the data was taken from:  \n",
    "    [Kaggle Machine Learning & Data Science Survey 2017](https://www.kaggle.com/kaggle/kaggle-survey-2017)"
   ]
  },
  {
   "cell_type": "markdown",
   "metadata": {},
   "source": [
    "## Summary\n",
    "\n",
    "In this lab, you practiced conducting actual hypothesis tests on actual data. From this, you saw how dependent results can be on the initial problem formulation, including preprocessing!"
   ]
  }
 ],
 "metadata": {
  "kernelspec": {
   "display_name": "Python 3",
   "language": "python",
   "name": "python3"
  },
  "language_info": {
   "codemirror_mode": {
    "name": "ipython",
    "version": 3
   },
   "file_extension": ".py",
   "mimetype": "text/x-python",
   "name": "python",
   "nbconvert_exporter": "python",
   "pygments_lexer": "ipython3",
   "version": "3.6.9"
  },
  "toc": {
   "base_numbering": 1,
   "nav_menu": {},
   "number_sections": true,
   "sideBar": true,
   "skip_h1_title": false,
   "title_cell": "Table of Contents",
   "title_sidebar": "Contents",
   "toc_cell": false,
   "toc_position": {},
   "toc_section_display": true,
   "toc_window_display": false
  }
 },
 "nbformat": 4,
 "nbformat_minor": 4
}
